{
 "cells": [
  {
   "cell_type": "markdown",
   "id": "ae5cd67b-1f50-48ea-aab2-91d48a2b8cc0",
   "metadata": {},
   "source": [
    "# Numpy"
   ]
  },
  {
   "cell_type": "markdown",
   "id": "15f818b9-c7b2-43cb-a1c9-b90fcc76884e",
   "metadata": {},
   "source": [
    "# Question 1: Data Creation and Inspection"
   ]
  },
  {
   "cell_type": "code",
   "execution_count": 41,
   "id": "b02d8ece-72de-4fcb-aef0-bcc0b329877e",
   "metadata": {},
   "outputs": [],
   "source": [
    "#A data analyst often starts by creating or loading data. Let's create a 1D array representing daily sales over a week and then inspect it.\n",
    "# 1)Create a NumPy array called daily_sales with the values [150, 200, 180, 220, 195, 250, 210].\n",
    "# 2)Print the shape, size, and data type (dtype) of the array.\n",
    "# 3)Find the total number of days in the sales data.\n",
    "# 4)Print the first three days' sales data using slicing.\n"
   ]
  },
  {
   "cell_type": "code",
   "execution_count": 6,
   "id": "ee0a1f8d-1a0c-4efb-8e61-429b6ce543f7",
   "metadata": {},
   "outputs": [
    {
     "name": "stdout",
     "output_type": "stream",
     "text": [
      "(7,)\n",
      "7\n",
      "int64\n",
      "7\n",
      "[150 200 180]\n"
     ]
    }
   ],
   "source": [
    "import numpy as np\n",
    "\n",
    "daily_sales=np.array([150, 200, 180, 220, 195, 250, 210])\n",
    "print(np.shape(daily_sales))\n",
    "print(np.size(daily_sales))\n",
    "print(daily_sales.dtype)\n",
    "print(len(daily_sales))\n",
    "print(daily_sales[:3])\n"
   ]
  },
  {
   "cell_type": "markdown",
   "id": "56a2c194-cfc3-4a0b-b8ff-40dc1b1ad6b2",
   "metadata": {},
   "source": [
    "# Question 2: Basic Array Operations"
   ]
  },
  {
   "cell_type": "code",
   "execution_count": 43,
   "id": "55a56756-789b-4ff1-ae64-b86eddc1a2b3",
   "metadata": {},
   "outputs": [],
   "source": [
    "#Now,let's perform some calculations on the sales data.\n",
    "# 1)Calculate and print the total sales for the week.\n",
    "# 2)Calculate and print the average daily sales.\n",
    "# 3)Find and print the highest and lowest sales recorded.\n",
    "# 4)Calculate and print the standard deviation of the sales data. What does this value tell you about the sales figures?"
   ]
  },
  {
   "cell_type": "code",
   "execution_count": 11,
   "id": "8ac91e0b-1d41-419e-b09c-4b5ff429f372",
   "metadata": {},
   "outputs": [
    {
     "name": "stdout",
     "output_type": "stream",
     "text": [
      "1405\n",
      "200.71428571428572\n",
      "150\n",
      "250\n",
      "29.084675816431904\n"
     ]
    }
   ],
   "source": [
    "print(np.sum(daily_sales))\n",
    "print(np.mean(daily_sales))\n",
    "print(np.min(daily_sales))\n",
    "print(np.max(daily_sales))\n",
    "print(np.std(daily_sales))\n",
    "#In this case, the standard deviation will be around 29.1, which suggests moderate variability in daily sales.\n"
   ]
  },
  {
   "cell_type": "markdown",
   "id": "b6b7c028-af5d-4cdd-a73f-d7040b3e33b7",
   "metadata": {},
   "source": [
    "# Question 3: Manipulating and Filtering Data"
   ]
  },
  {
   "cell_type": "code",
   "execution_count": 44,
   "id": "83e268d4-82a5-41aa-8f37-eba3f83d073a",
   "metadata": {},
   "outputs": [],
   "source": [
    "#Analysts often need to modify and filter data to find specific insights.\n",
    "# 1)A new sales figure of 230 came in for an additional day. Print the updated array.\n",
    "# 2)Your manager wants to know which days had sales greater than the average daily sales. Use filtering to create a new array containing only the sales figures that are above the average. Print this new array."
   ]
  },
  {
   "cell_type": "code",
   "execution_count": 13,
   "id": "34e127ea-5dfa-4cb1-b2bc-baafffe8a96d",
   "metadata": {},
   "outputs": [
    {
     "name": "stdout",
     "output_type": "stream",
     "text": [
      "[150 200 180 220 195 250 210 230]\n",
      "[220 250 210]\n"
     ]
    }
   ],
   "source": [
    "print(np.append(daily_sales,230))\n",
    "fil=daily_sales>200\n",
    "new=daily_sales[fil]\n",
    "print(new)"
   ]
  },
  {
   "cell_type": "markdown",
   "id": "8fa39ec1-1067-41c2-b90f-a9b30f063136",
   "metadata": {},
   "source": [
    "# Question 4: Working with 2D Arrays (Matrices)"
   ]
  },
  {
   "cell_type": "code",
   "execution_count": null,
   "id": "0c29a61d-db62-435d-b953-4fb00d8fa662",
   "metadata": {},
   "outputs": [],
   "source": [
    "#Data is often organized in a 2D format, like a spreadsheet. Let's work with a 2D array representing sales for two different products over three days.\n",
    "# 1)Create a 2D NumPy array called product_sales with the following data:\n",
    "#Product 1: [100, 120, 90]\n",
    "#Product 2: [150, 160, 170]\n",
    "# 2)Print the shape and dimension of this array.\n",
    "# 3)Using slicing, print the sales for Product 2 only.\n",
    "# 4)calculate the total sales for each product. Use the axis parameter to achieve this without manually summing each row. Print the result.\n",
    "# 5)Calculate the total sales for all products combined."
   ]
  },
  {
   "cell_type": "code",
   "execution_count": 39,
   "id": "be17be55-6383-4f77-88ad-8830dfc39824",
   "metadata": {},
   "outputs": [
    {
     "name": "stdout",
     "output_type": "stream",
     "text": [
      "(2, 3)\n",
      "2\n",
      "[150 160 170]\n",
      "310\n",
      "480\n",
      "[310 480]\n",
      "790\n"
     ]
    }
   ],
   "source": [
    "product_sales=np.array([[100, 120, 90],[150, 160, 170]])\n",
    "print(np.shape(product_sales))\n",
    "print(np.ndim(product_sales))\n",
    "print(product_sales[1])\n",
    "print(np.sum(product_sales[0]))\n",
    "print(np.sum(product_sales[1]))\n",
    "#0r\n",
    "print(np.sum(product_sales, axis=1))\n",
    "print(np.sum(product_sales))"
   ]
  },
  {
   "cell_type": "markdown",
   "id": "6e069a2e-3aa9-4f72-8578-5e5560e82308",
   "metadata": {},
   "source": [
    "# Question 5: Advanced Operations"
   ]
  },
  {
   "cell_type": "code",
   "execution_count": 45,
   "id": "06619311-af4d-4921-ab57-46babf4af92f",
   "metadata": {},
   "outputs": [],
   "source": [
    "#Let's combine some of the concepts to perform a more complex task.\n",
    "# 1)Two arrays represent the prices and quantities of items sold in a shop.\n",
    "#prices = np.array([5.50, 2.75, 12.00, 8.50])\n",
    "#quantities = np.array([10, 25, 5, 8])\n",
    "# 2)Calculate the total revenue for each item by multiplying the prices and quantities arrays. Store the result in a new array called item_revenue.\n",
    "# 3)Calculate and print the total revenue for the entire shop by summing the item_revenue array.\n",
    "# 4)Assume the sales tax is 8%. Calculate and print the total revenue after tax."
   ]
  },
  {
   "cell_type": "code",
   "execution_count": 40,
   "id": "dc5e1cca-a1e8-439d-a82f-d46139304200",
   "metadata": {},
   "outputs": [
    {
     "name": "stdout",
     "output_type": "stream",
     "text": [
      "[55.   68.75 60.   68.  ]\n",
      "251.75\n",
      "[59.4  74.25 64.8  73.44]\n",
      "271.89\n"
     ]
    }
   ],
   "source": [
    "prices = np.array([5.50, 2.75, 12.00, 8.50])\n",
    "quantities = np.array([10, 25, 5, 8])\n",
    "item_revenue=np.multiply(prices,quantities)\n",
    "print(item_revenue)\n",
    "print(np.sum(item_revenue))\n",
    "After_TaxedRevenue=np.multiply(item_revenue,1.08)\n",
    "print(After_TaxedRevenue)\n",
    "print(np.sum(After_TaxedRevenue))\n",
    "\n"
   ]
  },
  {
   "cell_type": "markdown",
   "id": "942cd0aa-2c3f-4bee-8c1c-f3b271d1df6d",
   "metadata": {},
   "source": [
    "# Practice Question 6: Data Simulation and Reshaping"
   ]
  },
  {
   "cell_type": "code",
   "execution_count": 46,
   "id": "cc2d79f7-db32-489c-8e76-093dc5abdc0e",
   "metadata": {},
   "outputs": [],
   "source": [
    "#As a data analyst, you often need to work with simulated data for testing or modeling.\n",
    "# 1)create a 1D array named monthly_data containing 30 random integers between 100 and 500. This array represents daily sales for a month.\n",
    "# 2)The data is more useful when organized by weeks. Reshape the monthly_data array into a 2D array with 5 rows (representing weeks) and 6 columns (representing days of the week).\n",
    "#Print the reshaped array and its new shape."
   ]
  },
  {
   "cell_type": "code",
   "execution_count": 36,
   "id": "28375b62-9bac-4759-89c9-0466811ea658",
   "metadata": {},
   "outputs": [
    {
     "name": "stdout",
     "output_type": "stream",
     "text": [
      "[238 400 357 479 366 196 311 270 207 494 458 220 242 487 132 171 317 470\n",
      " 231 288 177 480 331 123 139 286 170 293 316 203]\n",
      "[[238 400 357 479 366 196]\n",
      " [311 270 207 494 458 220]\n",
      " [242 487 132 171 317 470]\n",
      " [231 288 177 480 331 123]\n",
      " [139 286 170 293 316 203]]\n"
     ]
    }
   ],
   "source": [
    "monthly_data=np.random.randint(100,500,30)\n",
    "print(monthly_data)\n",
    "print(monthly_data.reshape(5,6))"
   ]
  }
 ],
 "metadata": {
  "kernelspec": {
   "display_name": "Python 3 (ipykernel)",
   "language": "python",
   "name": "python3"
  },
  "language_info": {
   "codemirror_mode": {
    "name": "ipython",
    "version": 3
   },
   "file_extension": ".py",
   "mimetype": "text/x-python",
   "name": "python",
   "nbconvert_exporter": "python",
   "pygments_lexer": "ipython3",
   "version": "3.13.6"
  }
 },
 "nbformat": 4,
 "nbformat_minor": 5
}
